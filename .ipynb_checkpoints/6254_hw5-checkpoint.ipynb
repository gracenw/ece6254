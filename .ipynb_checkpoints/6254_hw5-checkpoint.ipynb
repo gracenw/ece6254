{
 "cells": [
  {
   "cell_type": "code",
   "execution_count": 1,
   "id": "ba852a50",
   "metadata": {},
   "outputs": [],
   "source": [
    "import numpy as np\n",
    "import matplotlib.pyplot as plt\n",
    "from sklearn import datasets\n",
    "from math import exp\n",
    "import time"
   ]
  },
  {
   "cell_type": "code",
   "execution_count": 29,
   "id": "18a468f7",
   "metadata": {},
   "outputs": [],
   "source": [
    "# the logistic function\n",
    "def logistic_func(theta, x):\n",
    "    t = x.dot(theta)\n",
    "    g = np.zeros(t.shape)\n",
    "    # split into positive and negative to improve stability\n",
    "    g[t>=0.0] = 1.0 / (1.0 + np.exp(-t[t>=0.0]))\n",
    "    g[t<0.0] = np.exp(t[t<0.0]) / (np.exp(t[t<0.0])+1.0)\n",
    "    return g\n",
    "\n",
    "# function to compute log-likelihood\n",
    "def neg_log_like(theta, x, y):\n",
    "    g = logistic_func(theta,x)\n",
    "    return -sum(np.log(g[y>0.5])) - sum(np.log(1-g[y<0.5]))\n",
    "\n",
    "# function to compute the gradient of the negative log-likelihood\n",
    "def log_grad(theta, x, y):\n",
    "    g = logistic_func(theta,x)\n",
    "    return -x.T.dot(y-g)\n",
    "\n",
    "# implementation of gradient descent for logistic regression\n",
    "def stoc_grad_desc(theta, x, y, alpha, blocksize, tol, maxiter):\n",
    "    cost_iter = [] # cost at each iteration\n",
    "    theta_iter = np.empty((maxiter, theta.size)) # theta at each iteration\n",
    "    for n in range(maxiter):\n",
    "        blocks = np.random.randint(0, x.shape[0], blocksize) # randomly selected x value indices\n",
    "        grad_sum = np.zeros(theta.size) # gradient of randomly selected blocks\n",
    "        for b in blocks:\n",
    "            grad_sum = grad_sum - x[b, :].dot(y[b] - logistic_func(theta.T, x[b, :]))\n",
    "        theta = theta - alpha * grad_sum\n",
    "        if np.linalg.norm(theta - theta_iter[n - 1, :]) <= tol:\n",
    "            break\n",
    "        theta_iter[n, :] = theta\n",
    "        cost_iter.append(neg_log_like(theta, x, y))\n",
    "    return theta_iter[n, :], np.array(cost_iter)\n",
    "\n",
    "# function to compute output of LR classifier (unused)\n",
    "def lr_predict(theta,x):\n",
    "    # form Xtilde for prediction\n",
    "    shape = x.shape\n",
    "    Xtilde = np.zeros((shape[0],shape[1]+1))\n",
    "    Xtilde[:,0] = np.ones(shape[0])\n",
    "    Xtilde[:,1:] = x\n",
    "    return logistic_func(theta,Xtilde)"
   ]
  },
  {
   "cell_type": "code",
   "execution_count": 30,
   "id": "b203e12f",
   "metadata": {},
   "outputs": [
    {
     "name": "stdout",
     "output_type": "stream",
     "text": [
      "Block size = 1------------------\n",
      "Running time of SGD: 0.35664868354797363\n",
      "Final value of negative log-likelihood of SGD: 45.532511360179384\n",
      "Number of iterations for SGD: 5127\n",
      "Block size = 5------------------\n",
      "Running time of SGD: 0.287121057510376\n",
      "Final value of negative log-likelihood of SGD: 45.35197771467047\n",
      "Number of iterations for SGD: 2580\n",
      "Block size = 10------------------\n",
      "Running time of SGD: 0.06601691246032715\n",
      "Final value of negative log-likelihood of SGD: 45.88137056923142\n",
      "Number of iterations for SGD: 420\n"
     ]
    },
    {
     "data": {
      "image/png": "[encoded data removed]",
      "text/plain": [
       "<Figure size 432x288 with 1 Axes>"
      ]
     },
     "metadata": {
      "needs_background": "light"
     },
     "output_type": "display_data"
    }
   ],
   "source": [
    "## Generate dataset\n",
    "np.random.seed(2022) # Set random seed so results are repeatable\n",
    "x,y = datasets.make_blobs(n_samples=100,n_features=2,centers=2,cluster_std=5.0)\n",
    "\n",
    "## build classifier\n",
    "# form Xtilde\n",
    "shape = x.shape\n",
    "xtilde = np.zeros((shape[0],shape[1]+1))\n",
    "xtilde[:,0] = np.ones(shape[0])\n",
    "xtilde[:,1:] = x\n",
    "\n",
    "theta_sgd = np.zeros(shape[1]+1)\n",
    "\n",
    "# Run gradient descent\n",
    "alpha = 1e-4\n",
    "maxiter = 100000\n",
    "tol = 3e-5\n",
    "\n",
    "blocksizes = [1, 5, 10]\n",
    "legend_block = []\n",
    "\n",
    "for blocksize in blocksizes:\n",
    "    start = time.time()\n",
    "    theta_sgd, cost_sgd = stoc_grad_desc(theta_sgd, xtilde, y, alpha, blocksize, tol, maxiter)\n",
    "    end = time.time()\n",
    "\n",
    "    legend_block.append(\"Block size = \" + str(blocksize))\n",
    "    print('Block size = ' + str(blocksize) + '------------------')\n",
    "    print('Running time of SGD: ' + str(end-start))\n",
    "    print('Final value of negative log-likelihood of SGD: ' + str(cost_sgd[-1]))\n",
    "    print('Number of iterations for SGD: ' + str(len(cost_sgd)-1))\n",
    "\n",
    "    plt.plot(np.arange(len(cost_sgd)), cost_sgd)\n",
    "    theta_sgd = np.zeros(shape[1]+1)\n",
    "\n",
    "plt.xlabel(\"Number of iterations\")\n",
    "plt.ylabel(\"Cost\")\n",
    "plt.title(\"Logistic regression cost vs. iterations\")\n",
    "plt.legend(legend_block)\n",
    "plt.savefig(\"cost_vs_iter_sgd.png\")\n",
    "plt.show()"
   ]
  },
  {
   "cell_type": "code",
   "execution_count": null,
   "id": "f1c14f6b",
   "metadata": {},
   "outputs": [],
   "source": []
  }
 ],
 "metadata": {
  "kernelspec": {
   "display_name": "Python 3 (ipykernel)",
   "language": "python",
   "name": "python3"
  },
  "language_info": {
   "codemirror_mode": {
    "name": "ipython",
    "version": 3
   },
   "file_extension": ".py",
   "mimetype": "text/x-python",
   "name": "python",
   "nbconvert_exporter": "python",
   "pygments_lexer": "ipython3",
   "version": "3.8.12"
  }
 },
 "nbformat": 4,
 "nbformat_minor": 5
}
